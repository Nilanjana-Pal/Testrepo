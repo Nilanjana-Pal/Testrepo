{
 "cells": [
  {
   "cell_type": "code",
   "execution_count": 1,
   "id": "20e3cc6c",
   "metadata": {},
   "outputs": [],
   "source": [
    "#Exercise 2: Create markdown cell with title of the notebook"
   ]
  },
  {
   "cell_type": "markdown",
   "id": "d763bb55",
   "metadata": {},
   "source": [
    "# Data Science Tools and Ecosystem"
   ]
  },
  {
   "cell_type": "code",
   "execution_count": 2,
   "id": "5e20bfb9",
   "metadata": {},
   "outputs": [],
   "source": [
    "#Exercise 3 - Create a markdown cell for an introduction"
   ]
  },
  {
   "cell_type": "markdown",
   "id": "5d61c6d6",
   "metadata": {},
   "source": [
    "In this notebook, Data Science Tools and Ecosystem are summarized."
   ]
  },
  {
   "cell_type": "markdown",
   "id": "a64b4f5d",
   "metadata": {},
   "source": [
    "**Objectives:**\n",
    "    \n",
    "    -List popular languages for Data Science\n",
    "    \n",
    "    -List popular tools used for Data Science\n",
    "    \n",
    "    -List commonly used libraries by Data Scientists"
   ]
  },
  {
   "cell_type": "code",
   "execution_count": 3,
   "id": "d0672117",
   "metadata": {},
   "outputs": [],
   "source": [
    "#Exercise 4 - Create a markdown cell to list data science languages"
   ]
  },
  {
   "cell_type": "markdown",
   "id": "2c996b93",
   "metadata": {},
   "source": [
    "Some of the popular languages that Data Scientists use are: \n",
    "\n",
    "    1. Python\n",
    "    \n",
    "    2. R\n",
    "    \n",
    "    3. SQL\n",
    "    \n",
    "    4. Julia"
   ]
  },
  {
   "cell_type": "code",
   "execution_count": null,
   "id": "889c767a",
   "metadata": {},
   "outputs": [],
   "source": [
    "#Exercise 5 - Create a markdown cell to list data science libraries"
   ]
  },
  {
   "cell_type": "markdown",
   "id": "782caa28",
   "metadata": {},
   "source": [
    "Some of the commonly used libraries used by Data Scientists include:\n",
    "\n",
    "    1.NumPy\n",
    "    \n",
    "    2.SciPy\n",
    "    \n",
    "    3.matplotlib\n",
    "    \n",
    "    4.Pandas"
   ]
  },
  {
   "cell_type": "code",
   "execution_count": 5,
   "id": "e0edd01a",
   "metadata": {},
   "outputs": [],
   "source": [
    "#Exercise 6 - Create a markdown cell with a table of Data Science tools"
   ]
  },
  {
   "cell_type": "markdown",
   "id": "4ef04021",
   "metadata": {},
   "source": [
    "Data Science Tools\n",
    "----------------------------\n",
    "Jupyter Notebook/ JypyterLab\n",
    "\n",
    "RStudio\n",
    "\n",
    "Visual Studio Code"
   ]
  },
  {
   "cell_type": "code",
   "execution_count": 6,
   "id": "d3237bad",
   "metadata": {},
   "outputs": [],
   "source": [
    "#Exercise 7 - Create a markdown cell introducing arithmetic expression examples"
   ]
  },
  {
   "cell_type": "markdown",
   "id": "ade911c9",
   "metadata": {},
   "source": [
    "### Below are a few examples of evaluating arithmetic expressions in Python"
   ]
  },
  {
   "cell_type": "code",
   "execution_count": 7,
   "id": "b0439a7f",
   "metadata": {},
   "outputs": [],
   "source": [
    "#Exercise 8 - Create a code cell to multiply and add numbers"
   ]
  },
  {
   "cell_type": "code",
   "execution_count": 8,
   "id": "c235e54c",
   "metadata": {},
   "outputs": [
    {
     "data": {
      "text/plain": [
       "17"
      ]
     },
     "execution_count": 8,
     "metadata": {},
     "output_type": "execute_result"
    }
   ],
   "source": [
    "# This a simple arithmetic expression to mutiply then add integers\n",
    "(3*4)+5"
   ]
  },
  {
   "cell_type": "code",
   "execution_count": 9,
   "id": "1c00dd7c",
   "metadata": {},
   "outputs": [
    {
     "name": "stdout",
     "output_type": "stream",
     "text": [
      "3.3333333333333335\n"
     ]
    }
   ],
   "source": [
    "# This will convert 200 minutes to hours by diving by 60\n",
    "minutes = 200\n",
    "hours = minutes / 60\n",
    "print(hours)"
   ]
  },
  {
   "cell_type": "code",
   "execution_count": 10,
   "id": "2b44d1ed",
   "metadata": {},
   "outputs": [],
   "source": [
    "#Exercise 11 - Create a markdown cell to indicate the Author's name\n",
    "    "
   ]
  },
  {
   "cell_type": "markdown",
   "id": "7fd14f1c",
   "metadata": {},
   "source": [
    "## Author\n",
    "Nilanjana Pal"
   ]
  },
  {
   "cell_type": "code",
   "execution_count": null,
   "id": "204ca58d",
   "metadata": {},
   "outputs": [],
   "source": []
  }
 ],
 "metadata": {
  "kernelspec": {
   "display_name": "Python 3 (ipykernel)",
   "language": "python",
   "name": "python3"
  },
  "language_info": {
   "codemirror_mode": {
    "name": "ipython",
    "version": 3
   },
   "file_extension": ".py",
   "mimetype": "text/x-python",
   "name": "python",
   "nbconvert_exporter": "python",
   "pygments_lexer": "ipython3",
   "version": "3.11.4"
  }
 },
 "nbformat": 4,
 "nbformat_minor": 5
}
